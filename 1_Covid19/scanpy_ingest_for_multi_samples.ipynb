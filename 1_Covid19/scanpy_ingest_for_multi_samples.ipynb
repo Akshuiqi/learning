{
 "cells": [
  {
   "cell_type": "markdown",
   "id": "a40e8c55",
   "metadata": {},
   "source": [
    "# 环境设置"
   ]
  },
  {
   "cell_type": "code",
   "execution_count": null,
   "id": "7acf7265",
   "metadata": {
    "ExecuteTime": {
     "end_time": "2023-01-19T16:39:15.842242Z",
     "start_time": "2023-01-19T16:39:15.837954Z"
    }
   },
   "outputs": [],
   "source": [
    "import pandas as pd\n",
    "import scanpy as sc\n",
    "import numpy as np\n",
    "import gc\n",
    "from matplotlib.pyplot import rc_context"
   ]
  },
  {
   "cell_type": "code",
   "execution_count": null,
   "id": "3479f4c6",
   "metadata": {
    "ExecuteTime": {
     "end_time": "2023-01-19T16:20:31.290654Z",
     "start_time": "2023-01-19T16:20:31.272246Z"
    }
   },
   "outputs": [],
   "source": [
    "sc.settings.set_figure_params(dpi=80, frameon=False, figsize=(4, 4), facecolor='white')"
   ]
  },
  {
   "cell_type": "code",
   "execution_count": null,
   "id": "615e138e",
   "metadata": {
    "ExecuteTime": {
     "end_time": "2023-01-19T16:20:34.133772Z",
     "start_time": "2023-01-19T16:20:34.106886Z"
    }
   },
   "outputs": [],
   "source": [
    "ribo_genes = pd.read_table('ribo_genes.txt',skiprows=2, header=None)\n",
    "ribo_genes"
   ]
  },
  {
   "cell_type": "markdown",
   "id": "79411c84",
   "metadata": {},
   "source": [
    "# 单样本测试"
   ]
  },
  {
   "cell_type": "code",
   "execution_count": null,
   "id": "761be337",
   "metadata": {
    "ExecuteTime": {
     "end_time": "2023-01-19T15:25:44.112717Z",
     "start_time": "2023-01-19T15:24:59.152224Z"
    }
   },
   "outputs": [],
   "source": [
    "adata = sc.read_csv('./rawdata_test/GSM5226576_C53ctr_raw_counts.csv.gz').T\n",
    "adata.var_names_make_unique()\n",
    "#adata.obs['Sample'] = path.split('_')[2] #'raw_counts/GSM5226574_C51ctr_raw_counts.csv'\n",
    "sc.pp.filter_cells(adata, min_genes=100) #get rid of cells with fewer than 100 genes\n",
    "sc.pp.filter_genes(adata, min_cells=3) #get rid of genes that are found in fewer than 3 cells\n",
    "adata.var['mt'] = adata.var_names.str.startswith('mt-')  # annotate the group of mitochondrial genes as 'mt'\n",
    "adata.var['ribo'] = adata.var_names.isin(ribo_genes[0].values)\n",
    "sc.pp.calculate_qc_metrics(adata, qc_vars=['mt', 'ribo'], percent_top=None, log1p=False, inplace=True)\n",
    "\n",
    "upper_lim = np.quantile(adata.obs.n_genes_by_counts.values, .98)\n",
    "lower_lim = np.quantile(adata.obs.n_genes_by_counts.values, .02)\n",
    "adata = adata[(adata.obs.n_genes_by_counts < upper_lim) & (adata.obs.n_genes_by_counts > lower_lim)]\n",
    "adata = adata[adata.obs.pct_counts_mt < 20]\n",
    "adata = adata[adata.obs.pct_counts_ribo < 2]\n",
    "sc.pp.normalize_total(adata, target_sum=1e4) #normalize every cell to 10,000 UMI\n",
    "sc.pp.log1p(adata) #change to log counts\n",
    "sc.pp.highly_variable_genes(adata, min_mean=0.0125, max_mean=3, min_disp=0.5) #these are default values\n",
    "adata.raw = adata #save raw data before processing values and further filtering\n",
    "adata = adata[:, adata.var.highly_variable] #filter highly variable\n",
    "sc.pp.regress_out(adata, ['total_counts', 'pct_counts_mt']) #Regress out effects of total counts per cell and the percentage of mitochondrial genes expressed\n",
    "sc.pp.scale(adata, max_value=10) #scale each gene to unit variance\n",
    "sc.tl.pca(adata, svd_solver='arpack')"
   ]
  },
  {
   "cell_type": "code",
   "execution_count": null,
   "id": "4fe699f6",
   "metadata": {
    "ExecuteTime": {
     "end_time": "2023-01-19T16:10:07.720972Z",
     "start_time": "2023-01-19T16:10:07.713536Z"
    }
   },
   "outputs": [],
   "source": [
    "adata.raw.shape"
   ]
  },
  {
   "cell_type": "code",
   "execution_count": null,
   "id": "f9295428",
   "metadata": {
    "ExecuteTime": {
     "end_time": "2023-01-19T15:51:25.792218Z",
     "start_time": "2023-01-19T15:51:25.695678Z"
    }
   },
   "outputs": [],
   "source": [
    "sc.pl.pca(adata, color='CD4')"
   ]
  },
  {
   "cell_type": "code",
   "execution_count": null,
   "id": "3d2081c5",
   "metadata": {
    "ExecuteTime": {
     "end_time": "2023-01-19T15:51:45.734844Z",
     "start_time": "2023-01-19T15:51:45.592491Z"
    },
    "scrolled": true
   },
   "outputs": [],
   "source": [
    "sc.pl.pca_variance_ratio(adata, log=True, n_pcs=50)"
   ]
  },
  {
   "cell_type": "code",
   "execution_count": null,
   "id": "1f12fbb8",
   "metadata": {
    "ExecuteTime": {
     "end_time": "2023-01-19T15:37:58.798866Z",
     "start_time": "2023-01-19T15:37:58.027255Z"
    }
   },
   "outputs": [],
   "source": [
    "sc.pp.neighbors(adata, n_neighbors=30, n_pcs=30)"
   ]
  },
  {
   "cell_type": "code",
   "execution_count": null,
   "id": "98404d5e",
   "metadata": {
    "ExecuteTime": {
     "end_time": "2023-01-19T15:38:38.648120Z",
     "start_time": "2023-01-19T15:38:32.393062Z"
    }
   },
   "outputs": [],
   "source": [
    "sc.tl.leiden(adata, resolution = 0.25)\n",
    "sc.tl.umap(adata)"
   ]
  },
  {
   "cell_type": "code",
   "execution_count": null,
   "id": "1750c7ec",
   "metadata": {
    "ExecuteTime": {
     "end_time": "2023-01-19T15:54:54.101522Z",
     "start_time": "2023-01-19T15:54:48.649622Z"
    }
   },
   "outputs": [],
   "source": [
    "sc.tl.paga(adata)\n",
    "sc.pl.paga(adata, plot=True)  # remove `plot=False` if you want to see the coarse-grained graph\n",
    "sc.tl.umap(adata, init_pos='paga')"
   ]
  },
  {
   "cell_type": "code",
   "execution_count": null,
   "id": "0e0ed86f",
   "metadata": {
    "ExecuteTime": {
     "end_time": "2023-01-19T16:02:11.926712Z",
     "start_time": "2023-01-19T16:02:11.775088Z"
    }
   },
   "outputs": [],
   "source": [
    "sc.pl.umap(adata, color=['leiden'],legend_loc='on data')"
   ]
  },
  {
   "cell_type": "code",
   "execution_count": null,
   "id": "86d83c97",
   "metadata": {},
   "outputs": [],
   "source": [
    "del adata\n",
    "gc.collect()"
   ]
  },
  {
   "cell_type": "markdown",
   "id": "355ef81a",
   "metadata": {},
   "source": [
    "# 批量处理"
   ]
  },
  {
   "cell_type": "code",
   "execution_count": null,
   "id": "69c616ac",
   "metadata": {
    "ExecuteTime": {
     "end_time": "2023-01-19T16:20:39.271088Z",
     "start_time": "2023-01-19T16:20:39.255238Z"
    }
   },
   "outputs": [],
   "source": [
    "def pp(path):\n",
    "    sc.settings.verbosity = 2  # a bit more logging\n",
    "    adata = sc.read_csv(path).T\n",
    "    adata.var_names_make_unique()\n",
    "    adata.obs['Sample'] = path.split('_')[2] #'raw_counts/GSM5226574_C51ctr_raw_counts.csv'\n",
    "    sc.pp.filter_cells(adata, min_genes=100) #get rid of cells with fewer than 100 genes\n",
    "    sc.pp.filter_genes(adata, min_cells=3) #get rid of genes that are found in fewer than 3 cells\n",
    "    adata.var['mt'] = adata.var_names.str.startswith('mt-')  # annotate the group of mitochondrial genes as 'mt'\n",
    "    adata.var['ribo'] = adata.var_names.isin(ribo_genes[0].values)\n",
    "    sc.pp.calculate_qc_metrics(adata, qc_vars=['mt', 'ribo'], percent_top=None, log1p=False, inplace=True)\n",
    "    \n",
    "    upper_lim = np.quantile(adata.obs.n_genes_by_counts.values, .98)\n",
    "    lower_lim = np.quantile(adata.obs.n_genes_by_counts.values, .02)\n",
    "    adata = adata[(adata.obs.n_genes_by_counts < upper_lim) & (adata.obs.n_genes_by_counts > lower_lim)]\n",
    "    adata = adata[adata.obs.pct_counts_mt < 20]\n",
    "    adata = adata[adata.obs.pct_counts_ribo < 2]\n",
    "    sc.pp.normalize_total(adata, target_sum=1e4) #normalize every cell to 10,000 UMI\n",
    "    sc.pp.log1p(adata) #change to log counts\n",
    "    sc.pp.highly_variable_genes(adata, min_mean=0.0125, max_mean=3, min_disp=0.5) #these are default values\n",
    "    adata.raw = adata #save raw data before processing values and further filtering\n",
    "    adata = adata[:, adata.var.highly_variable] #filter highly variable\n",
    "    sc.pp.regress_out(adata, ['total_counts', 'pct_counts_mt']) #Regress out effects of total counts per cell and the percentage of mitochondrial genes expressed\n",
    "    sc.pp.scale(adata, max_value=10) #scale each gene to unit variance\n",
    "    sc.tl.pca(adata, svd_solver='arpack')\n",
    "    sc.pp.neighbors(adata, n_neighbors=10, n_pcs=20)\n",
    "    sc.tl.leiden(adata, resolution = 0.25)\n",
    "    sc.tl.umap(adata)\n",
    "    return adata"
   ]
  },
  {
   "cell_type": "code",
   "execution_count": null,
   "id": "06d6631a",
   "metadata": {
    "ExecuteTime": {
     "end_time": "2023-01-19T16:24:19.978795Z",
     "start_time": "2023-01-19T16:20:43.833801Z"
    },
    "scrolled": true
   },
   "outputs": [],
   "source": [
    "import os\n",
    "out = []\n",
    "for file in os.listdir('rawdata_test/'):\n",
    "    out.append(pp('rawdata_test/' + file))\n",
    "    \n",
    "del file\n",
    "gc.collect()"
   ]
  },
  {
   "cell_type": "code",
   "execution_count": null,
   "id": "76cd5f04",
   "metadata": {
    "ExecuteTime": {
     "end_time": "2023-01-19T16:34:46.808623Z",
     "start_time": "2023-01-19T16:34:46.761362Z"
    },
    "code_folding": [],
    "scrolled": true
   },
   "outputs": [],
   "source": [
    "# 取相同基因\n",
    "var_names = []\n",
    "for i in range(0,5):\n",
    "    var_names = out[i].var_names.intersection(out[5].var_names)\n",
    "    out[5] = out[5][:,var_names]\n",
    "    print(i)\n",
    "\n",
    "del i\n",
    "gc.collect()"
   ]
  },
  {
   "cell_type": "code",
   "execution_count": null,
   "id": "1eba6ce3",
   "metadata": {
    "ExecuteTime": {
     "end_time": "2023-01-19T16:34:50.670899Z",
     "start_time": "2023-01-19T16:34:50.644858Z"
    },
    "scrolled": false
   },
   "outputs": [],
   "source": [
    "for n in range(0,5):\n",
    "    out[n] = out[n][:,var_names]\n",
    "    print(n)\n",
    "    \n",
    "del n,var_names\n",
    "gc.collect()"
   ]
  },
  {
   "cell_type": "code",
   "execution_count": null,
   "id": "98a4f143",
   "metadata": {
    "ExecuteTime": {
     "end_time": "2023-01-19T16:36:17.081393Z",
     "start_time": "2023-01-19T16:35:18.220861Z"
    },
    "scrolled": true
   },
   "outputs": [],
   "source": [
    "sc.settings.verbosity = 2  # a bit more logging\n",
    "for i, adata in enumerate(out[-5:]):\n",
    "    print(f'... integrating batch {i}')\n",
    "    #adata.obs['celltype_orig'] = adata.obs.celltype  # save the original cell type\n",
    "    sc.tl.ingest(adata, out[0], obs='leiden')\n",
    "    #adata.uns['leiden_colors'] = out1[5].uns['leiden_colors']  # fix colors\n",
    "\n",
    "del i,adata\n",
    "gc.collect()"
   ]
  },
  {
   "cell_type": "code",
   "execution_count": null,
   "id": "89c4eaa8",
   "metadata": {
    "ExecuteTime": {
     "end_time": "2023-01-19T16:38:41.903805Z",
     "start_time": "2023-01-19T16:38:39.785641Z"
    },
    "scrolled": true
   },
   "outputs": [],
   "source": [
    "adata_ingest = out[0].copy()\n",
    "for a in out[-5:]:\n",
    "    adata_ingest = adata_ingest.concatenate(a)\n",
    "\n",
    "del a\n",
    "gc.collect()"
   ]
  },
  {
   "cell_type": "code",
   "execution_count": null,
   "id": "cc37b9ac",
   "metadata": {
    "ExecuteTime": {
     "end_time": "2023-01-19T16:47:34.832837Z",
     "start_time": "2023-01-19T16:47:33.297746Z"
    },
    "scrolled": false
   },
   "outputs": [],
   "source": [
    "with rc_context({'figure.figsize': (4, 4)}):\n",
    "    for s in out:\n",
    "        sc.pl.umap(s, color = ['leiden','Sample'])\n",
    "\n",
    "del s\n",
    "gc.collect()"
   ]
  },
  {
   "cell_type": "code",
   "execution_count": null,
   "id": "af62b099",
   "metadata": {
    "ExecuteTime": {
     "end_time": "2023-01-19T16:48:07.587172Z",
     "start_time": "2023-01-19T16:48:07.199999Z"
    }
   },
   "outputs": [],
   "source": [
    "sc.pl.umap(adata_ingest, color=['leiden','Sample'])"
   ]
  },
  {
   "cell_type": "code",
   "execution_count": null,
   "id": "1ee58818",
   "metadata": {
    "ExecuteTime": {
     "end_time": "2023-01-19T16:48:35.521521Z",
     "start_time": "2023-01-19T16:48:35.506783Z"
    },
    "scrolled": true
   },
   "outputs": [],
   "source": [
    "adata_ingest.obs.groupby(['Sample', 'leiden']).count()"
   ]
  },
  {
   "cell_type": "code",
   "execution_count": null,
   "id": "ea34954d",
   "metadata": {
    "ExecuteTime": {
     "end_time": "2023-01-19T16:51:05.961873Z",
     "start_time": "2023-01-19T16:51:05.722806Z"
    }
   },
   "outputs": [],
   "source": [
    "del out\n",
    "gc.collect()"
   ]
  },
  {
   "cell_type": "code",
   "execution_count": null,
   "id": "0cc658dc",
   "metadata": {},
   "outputs": [],
   "source": []
  },
  {
   "cell_type": "code",
   "execution_count": null,
   "id": "e43d85fb",
   "metadata": {},
   "outputs": [],
   "source": []
  },
  {
   "cell_type": "code",
   "execution_count": null,
   "id": "841f350b",
   "metadata": {},
   "outputs": [],
   "source": []
  },
  {
   "cell_type": "code",
   "execution_count": null,
   "id": "14aa4522",
   "metadata": {},
   "outputs": [],
   "source": []
  },
  {
   "cell_type": "code",
   "execution_count": null,
   "id": "87c9a724",
   "metadata": {},
   "outputs": [],
   "source": []
  },
  {
   "cell_type": "code",
   "execution_count": null,
   "id": "b837c13d",
   "metadata": {},
   "outputs": [],
   "source": []
  },
  {
   "cell_type": "code",
   "execution_count": null,
   "id": "dfc69636",
   "metadata": {},
   "outputs": [],
   "source": []
  },
  {
   "cell_type": "code",
   "execution_count": null,
   "id": "550a7a72",
   "metadata": {},
   "outputs": [],
   "source": []
  },
  {
   "cell_type": "code",
   "execution_count": null,
   "id": "22c34065",
   "metadata": {},
   "outputs": [],
   "source": []
  },
  {
   "cell_type": "code",
   "execution_count": null,
   "id": "fd6ccc0c",
   "metadata": {},
   "outputs": [],
   "source": []
  },
  {
   "cell_type": "code",
   "execution_count": null,
   "id": "ea0a519d",
   "metadata": {},
   "outputs": [],
   "source": []
  },
  {
   "cell_type": "code",
   "execution_count": null,
   "id": "c1e75f85",
   "metadata": {},
   "outputs": [],
   "source": []
  },
  {
   "cell_type": "code",
   "execution_count": null,
   "id": "d579be49",
   "metadata": {},
   "outputs": [],
   "source": []
  }
 ],
 "metadata": {
  "kernelspec": {
   "display_name": "Python 3 (ipykernel)",
   "language": "python",
   "name": "python3"
  },
  "language_info": {
   "codemirror_mode": {
    "name": "ipython",
    "version": 3
   },
   "file_extension": ".py",
   "mimetype": "text/x-python",
   "name": "python",
   "nbconvert_exporter": "python",
   "pygments_lexer": "ipython3",
   "version": "3.10.8"
  },
  "toc": {
   "base_numbering": 1,
   "nav_menu": {},
   "number_sections": true,
   "sideBar": true,
   "skip_h1_title": false,
   "title_cell": "Table of Contents",
   "title_sidebar": "Contents",
   "toc_cell": false,
   "toc_position": {},
   "toc_section_display": true,
   "toc_window_display": false
  },
  "varInspector": {
   "cols": {
    "lenName": 16,
    "lenType": 16,
    "lenVar": 40
   },
   "kernels_config": {
    "python": {
     "delete_cmd_postfix": "",
     "delete_cmd_prefix": "del ",
     "library": "var_list.py",
     "varRefreshCmd": "print(var_dic_list())"
    },
    "r": {
     "delete_cmd_postfix": ") ",
     "delete_cmd_prefix": "rm(",
     "library": "var_list.r",
     "varRefreshCmd": "cat(var_dic_list()) "
    }
   },
   "types_to_exclude": [
    "module",
    "function",
    "builtin_function_or_method",
    "instance",
    "_Feature"
   ],
   "window_display": true
  }
 },
 "nbformat": 4,
 "nbformat_minor": 5
}
